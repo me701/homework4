{
 "cells": [
  {
   "cell_type": "markdown",
   "metadata": {},
   "source": [
    "# Homework 4\n",
    "\n",
    "I said earlier in the course that I wouldn't use Jupyter beyond a demo.  I lied.  Sorry.\n",
    "\n",
    "We'll see how this goes!\n",
    "\n"
   ]
  },
  {
   "cell_type": "markdown",
   "metadata": {},
   "source": [
    "## Problem 0\n",
    "\n",
    "\n",
    "We talked about the challenging demon child that is $0.1_{10}$.  Show me in any way that you can that this is an impossible number to store exactly in 64-bit precision (aka, a Python `float`).  (Hint: \"series\" from Calc 2)."
   ]
  },
  {
   "cell_type": "markdown",
   "metadata": {},
   "source": [
    "*YOUR WORDS HERE INSTEAD OF MINE!*\n",
    "\n",
    "LaTeX is wonderful.  For example, I can write in nice, pretty notation that\n",
    "\n",
    "$$\n",
    "1 + \\frac{1}{2} + \\frac{1}{4} + \\ldots = \\sum^{\\infty}_{i=0} 2^{-i} = 2 \\, .\n",
    "$$\n",
    "\n",
    "I can show (bit not prove) this result numerically via"
   ]
  },
  {
   "cell_type": "code",
   "execution_count": null,
   "metadata": {},
   "outputs": [],
   "source": [
    "# and/or YOUR CODE HERE INSTEAD OF MINE!\n",
    "\n",
    "i, s = 0, 0\n",
    "while abs(2**(-i)) > 3e-16:  # remember 2**(-52), right?\n",
    "    s = s + 2**(-i)\n",
    "    i = i + 1\n",
    "print(s)"
   ]
  },
  {
   "cell_type": "markdown",
   "metadata": {},
   "source": [
    "**Replace my text and code above.**"
   ]
  },
  {
   "cell_type": "markdown",
   "metadata": {},
   "source": [
    "## Problem 1\n",
    "\n",
    "I can quickly make a matrix with a structure similar to the one we saw for the 2d heat conduction problem for a square domain with an **even** number of equal-sized cells along each axis:"
   ]
  },
  {
   "cell_type": "code",
   "execution_count": null,
   "metadata": {},
   "outputs": [],
   "source": [
    "import numpy as np\n",
    "L = 1.0  # length of a side (m)\n",
    "k = 1.0  # thermal conductivity (W/m/C)\n",
    "n = 10  # number of cells... make me stay EVEN!!\n",
    "assert  n % 2 == 0, \"n has to be even, yo\"\n",
    "A = np.diag(-np.ones(n), 0) + \\\n",
    "    np.diag(0.25*np.ones(n-1), k=-1) + \\\n",
    "    np.diag(0.25*np.ones(n-1), k= 1) + \\\n",
    "    np.diag(0.25*np.ones(n//2), k=-n//2) + \\\n",
    "    np.diag(0.25*np.ones(n//2), k= n//2)\n",
    "A = A * k / (L/n)**2"
   ]
  },
  {
   "cell_type": "code",
   "execution_count": null,
   "metadata": {},
   "outputs": [],
   "source": [
    "plt.spy(A)"
   ]
  },
  {
   "cell_type": "markdown",
   "metadata": {},
   "source": [
    "Now, suppose the heat source is uniform and equal to 1 W/m.  In other words, the right-hand side is a bunch of ones.  \n",
    "\n",
    "**Part A** Show me the temperature as a function of $x$ and $y$ for $n = 10$.  You may adapt the plotting code provided in `FD2D_HEAT_STEADY`."
   ]
  },
  {
   "cell_type": "code",
   "execution_count": null,
   "metadata": {},
   "outputs": [],
   "source": [
    "# YOUR CODE HERE"
   ]
  },
  {
   "cell_type": "markdown",
   "metadata": {},
   "source": [
    "**Part B** Show me how long it takes to solve for $n = 10, 100, 1000, 10000, 100000$.  Make your \"evidence\" a plot (good plotting practices apply; when in doubt, use [best practices](https://robertsj.github.io/me400_notes/lectures/Basic_Data_Processing_with_NumPy_and_Matplotlib.html#Diving-into-pyplot). You'll need `import time`, etc., to do this problem.  Look to Rohan's examples for ways to time a function call."
   ]
  },
  {
   "cell_type": "code",
   "execution_count": null,
   "metadata": {},
   "outputs": [],
   "source": [
    "# YOUR CODE HERE"
   ]
  },
  {
   "cell_type": "markdown",
   "metadata": {},
   "source": [
    "## Problem 2\n",
    "\n",
    "Any \"dense\" matrix can be converted to a (compressed-storage-row) sparse matrix in Python using the following:"
   ]
  },
  {
   "cell_type": "code",
   "execution_count": null,
   "metadata": {},
   "outputs": [],
   "source": [
    "import scipy.sparse as sparse\n",
    "A_sparse = sparse.csr_matrix(A)\n",
    "A_sparse"
   ]
  },
  {
   "cell_type": "markdown",
   "metadata": {},
   "source": [
    "Use this to reproduce your **Part B** to Problem 1 using `sparse.gmres` instead of `np.linalg.solve`."
   ]
  },
  {
   "cell_type": "code",
   "execution_count": null,
   "metadata": {},
   "outputs": [],
   "source": [
    "# YOUR CODE HERE"
   ]
  },
  {
   "cell_type": "markdown",
   "metadata": {},
   "source": [
    "Just know this is *not* where this problem could end.  Preconditioners, convergence criteria, and more are things you can explore further if you end up in a world where big, sparse systems represent a recurring theme."
   ]
  },
  {
   "cell_type": "markdown",
   "metadata": {},
   "source": [
    "## Problem 4\n",
    "\n",
    "In ME 535, I just made measurements to calibrate a variable potentiometer.  Below are the number of rotations and the resulting voltage (mV).\n",
    "\n",
    "```\n",
    "turns  voltage\n",
    "--------------\n",
    "1\t   11.6\t\n",
    "2\t   24.8\t \n",
    "3\t   37.0\t \n",
    "4\t   49.1 \n",
    "5\t   60.9 \n",
    "6\t   72.8 \t\n",
    "7\t   84.5 \t\t\n",
    "8\t   96.3 \t\t\n",
    "9\t  107.7\t\t\n",
    "```\n",
    "\n",
    "**Part A**\n",
    "\n",
    "Use `np.polyfit` and `np.polyval` to fit this data to a line, i.e., $v = at + b$, where $v$ is voltage, $t$ is turns, $a$ is the slope$, and $b$ is the intercept.  Then, plot the data (using points) and the fit (as a line) on one figure."
   ]
  },
  {
   "cell_type": "code",
   "execution_count": null,
   "metadata": {},
   "outputs": [],
   "source": [
    "# here's the data so you don't have to type it\n",
    "turns = np.array([1,2,3,4,5,6,7,8,9.0]) # 9.0 to force this to be floats and not ints!\n",
    "voltage = np.array([11.6, 24.8,37.0,49.1 ,60.9 ,72.8, 84.5, 96.3, 107.7])"
   ]
  },
  {
   "cell_type": "code",
   "execution_count": null,
   "metadata": {},
   "outputs": [],
   "source": [
    "## YOUR CODE HERE\n",
    "np.polyfit(turns, voltage, 2)"
   ]
  },
  {
   "cell_type": "markdown",
   "metadata": {},
   "source": [
    "**Part B**\n",
    "\n",
    "Use the same procedure to fit the model $v = at^2 + bt + c$.  Careful: this $a$ and $b$ are *different* from **Part A**, so choose wise Python variable names.  Plot the data and both fits (linear and quadratic) on one figure.  "
   ]
  },
  {
   "cell_type": "code",
   "execution_count": null,
   "metadata": {},
   "outputs": [],
   "source": [
    "## YOUR CODE HERE"
   ]
  },
  {
   "cell_type": "markdown",
   "metadata": {},
   "source": [
    "**Part C**\n",
    "\n",
    "For arbitrary models of the form $v = f(t, a, b, c, \\ldots)$, we can use `curve_fit`.  The most basic use of `curve_fit` looks like\n",
    "\n",
    "```python\n",
    "curve_fit(f, turns, voltages, (a0, b0, c0))\n",
    "```\n",
    "\n",
    "where `f` is a Python function that represents the model, e.g.,\n",
    "\n",
    "```\n",
    "def f(t, a, b, c):\n",
    "    return a*t**2 + b*t + c\n",
    "```\n",
    "\n",
    "and `a0`, `b0`, and `c0` are initial guesses for the coefficients.  Here, use `curve_fit` with `a0=0`, `b0=12`, and `c0=0`.  Report the computed values for `a`, `b`, and `c`.  "
   ]
  },
  {
   "cell_type": "code",
   "execution_count": null,
   "metadata": {},
   "outputs": [],
   "source": [
    "from scipy.optimize import curve_fit\n",
    "\n",
    "def f(t, a, b, c):\n",
    "    return a*t**2 + b*t + c\n",
    "\n",
    "a0, b0, c0 = 0.0, 12.0, 0.0\n",
    "\n",
    "## YOUR CODE HERE"
   ]
  },
  {
   "cell_type": "markdown",
   "metadata": {},
   "source": [
    "**Part D**\n",
    "\n",
    "Yet another way to perform fitting is to apply minimization directly to error of a fit.  Everything we've done above is based on \"least squares\".  In other words, if $v$ is the measured voltage and $\\tilde{v}$ is the *approximate* voltage, we found $a$, $b$, and maybe $c$ that minimize the sum of the square errors$^*$:\n",
    "\n",
    "$$\n",
    "  \\min_{a,b,c} \\sqrt{  \\frac{1}{10} \\sum_{i=1}^{10} \\Big (v_i - \\tilde{v}_i(a,b,c) \\Big)^2 }\n",
    "$$\n",
    "\n",
    "$*$Note that the $\\sqrt{\\cdot}$ and $1/10$ make this the \"root, mean\" square error, but the result is the same...think about why!\n",
    "\n",
    "\n",
    "Run this little bit of code to show that `minimize` yields the same result as **Part B** and **Part C**."
   ]
  },
  {
   "cell_type": "code",
   "execution_count": null,
   "metadata": {},
   "outputs": [],
   "source": [
    "from scipy.optimize import minimize\n",
    "\n",
    "def objective_L2(coefs, t, v):\n",
    "    a, b, c = coefs\n",
    "    v_tilde = a*t**2 + b*t + c # or use f(t, a, b, c)\n",
    "    error = v - v_tilde\n",
    "    sum_square_error =  np.sum(error**2)\n",
    "    return sum_square_error\n",
    "\n",
    "minimize(objective, x0=(a0, b0, c0), args=(turns, voltage))"
   ]
  },
  {
   "cell_type": "markdown",
   "metadata": {},
   "source": [
    "Least squares is usually \"easy\", and it has a strong connection to statistics and the normal distribution, but it isn't the only way to fit a model.  Note that by minimizing the *square* of the error, the fitting process naturally penalizes the biggest errors most. What if we instead want to penalize all errors *equally*?  The right objective then is to minimize this quantity:\n",
    "\n",
    "$$\n",
    "  \\min_{a,b,c} \\frac{1}{10} \\sum_{i=1}^{10} |v_i - \\tilde{v}_i(a,b,c) |\n",
    "$$\n",
    "\n",
    "where $|\\cdot|$ is the absolute value. By minimizing this quantity, the *average* magnitude of the errors is minimized.  Define a new `objective_L1` function that fits the data using this approach."
   ]
  },
  {
   "cell_type": "code",
   "execution_count": null,
   "metadata": {},
   "outputs": [],
   "source": [
    "## YOUR CODE HERE"
   ]
  },
  {
   "cell_type": "markdown",
   "metadata": {},
   "source": [
    "**Part E**\n",
    "\n",
    "Finally, show me the mean, square error and the mean absolute error for your fits from **Part C** and **Part D**."
   ]
  },
  {
   "cell_type": "code",
   "execution_count": null,
   "metadata": {},
   "outputs": [],
   "source": [
    "## YOUR CODE HERE"
   ]
  },
  {
   "cell_type": "markdown",
   "metadata": {},
   "source": [
    "## Problem 5\n",
    "\n",
    "Go find any ordinary differential equation that still haunts you from MATH 340\n",
    "and solve it numerically using `odeint`.  "
   ]
  },
  {
   "cell_type": "markdown",
   "metadata": {},
   "source": [
    "**STATE THE ODE PROBLEM HERE**"
   ]
  },
  {
   "cell_type": "code",
   "execution_count": null,
   "metadata": {},
   "outputs": [],
   "source": [
    "from scipy.integrate import odeint\n",
    "\n",
    "## YOUR CODE HERE"
   ]
  }
 ],
 "metadata": {
  "kernelspec": {
   "display_name": "Python 3",
   "language": "python",
   "name": "python3"
  },
  "language_info": {
   "codemirror_mode": {
    "name": "ipython",
    "version": 3
   },
   "file_extension": ".py",
   "mimetype": "text/x-python",
   "name": "python",
   "nbconvert_exporter": "python",
   "pygments_lexer": "ipython3",
   "version": "3.7.3"
  }
 },
 "nbformat": 4,
 "nbformat_minor": 2
}
